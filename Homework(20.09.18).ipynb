{
 "cells": [
  {
   "cell_type": "code",
   "execution_count": null,
   "metadata": {},
   "outputs": [],
   "source": []
  },
  {
   "cell_type": "code",
   "execution_count": 3,
   "metadata": {},
   "outputs": [
    {
     "data": {
      "text/plain": [
       "{'a': 1,\n",
       " 'b': 1,\n",
       " 'c': 1,\n",
       " 'd': 1,\n",
       " 'e': 1,\n",
       " 'f': 1,\n",
       " 'g': 1,\n",
       " 'h': 1,\n",
       " 'i': 1,\n",
       " 'j': 1,\n",
       " 'k': 1,\n",
       " 'l': 1,\n",
       " 'm': 1,\n",
       " 'n': 1,\n",
       " 'o': 1,\n",
       " 'p': 1,\n",
       " 'q': 1,\n",
       " 'r': 1,\n",
       " 's': 1,\n",
       " 't': 1,\n",
       " 'u': 1,\n",
       " 'v': 1,\n",
       " 'w': 1,\n",
       " 'x': 1,\n",
       " 'y': 1,\n",
       " 'z': 1}"
      ]
     },
     "execution_count": 3,
     "metadata": {},
     "output_type": "execute_result"
    }
   ],
   "source": [
    "str = \"abcdefghijklmnopqrstuvwxyz\"\n",
    "{i: str.count(i) for i in str}\n"
   ]
  },
  {
   "cell_type": "code",
   "execution_count": 13,
   "metadata": {},
   "outputs": [
    {
     "name": "stdout",
     "output_type": "stream",
     "text": [
      "z: 1\n",
      "g: 2\n",
      "e: 3\n",
      "i: 4\n",
      "p: 5\n",
      "b: 6\n",
      "d: 7\n",
      "n: 8\n",
      "k: 9\n",
      "m: 10\n",
      "a: 11\n",
      "c: 12\n",
      "o: 13\n",
      "u: 14\n",
      "t: 15\n",
      "h: 16\n",
      "w: 17\n",
      "r: 18\n",
      "x: 19\n",
      "f: 20\n",
      "l: 21\n",
      "q: 22\n",
      "v: 23\n",
      "j: 24\n",
      "y: 25\n",
      "s: 26\n"
     ]
    }
   ],
   "source": [
    "str = {\"a\", \"b\", \"c\", \"d\", \"e\", \"f\", \"g\", \"h\", \"i\", \"j\", \"k\", \"l\", \"m\", \"n\", \"o\", \"p\", \"q\", \"r\", \"s\", \"t\", \"u\", \"v\", \"w\", \"x\", \"y\", \"z\" }\n",
    "for index, value in  enumerate(str, 1):\n",
    "    print(\"{}: {}\".format(value, index))"
   ]
  },
  {
   "cell_type": "code",
   "execution_count": null,
   "metadata": {},
   "outputs": [],
   "source": []
  },
  {
   "cell_type": "code",
   "execution_count": null,
   "metadata": {},
   "outputs": [],
   "source": []
  }
 ],
 "metadata": {
  "kernelspec": {
   "display_name": "Python 3",
   "language": "python",
   "name": "python3"
  },
  "language_info": {
   "codemirror_mode": {
    "name": "ipython",
    "version": 3
   },
   "file_extension": ".py",
   "mimetype": "text/x-python",
   "name": "python",
   "nbconvert_exporter": "python",
   "pygments_lexer": "ipython3",
   "version": "3.6.5"
  }
 },
 "nbformat": 4,
 "nbformat_minor": 2
}
