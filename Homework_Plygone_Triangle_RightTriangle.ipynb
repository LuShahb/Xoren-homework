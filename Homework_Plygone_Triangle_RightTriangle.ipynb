{
 "cells": [
  {
   "cell_type": "code",
   "execution_count": 1,
   "metadata": {},
   "outputs": [
    {
     "name": "stdout",
     "output_type": "stream",
     "text": [
      "Enter side 1 : 10\n",
      "Enter side 2 : 5\n",
      "Side 1 is 10.0\n",
      "Side 2 is 5.0\n",
      "Side 3 is 11.180339887498949\n",
      "The area of the triangle is 25.00\n"
     ]
    }
   ],
   "source": [
    "class Polygon:\n",
    "    def __init__(self, no_of_sides):\n",
    "        self.n = no_of_sides\n",
    "        self.sides = list()\n",
    "\n",
    "    def input_sides(self):\n",
    "        while True:\n",
    "            self.sides = [float(input(\"Enter side \"+str(i+1)+\" : \")) for i in range(self.n)]\n",
    "            if max(self.sides) < sum(self.sides)/2:\n",
    "                break\n",
    "            print(\"It's impossible to create a polygon, try again\")\n",
    "\n",
    "\n",
    "    def disp_sides(self):\n",
    "        for i in range(self.n):\n",
    "            print(\"Side\",i+1,\"is\",self.sides[i])\n",
    "\n",
    "\n",
    "class Triangle(Polygon):\n",
    "    def __init__(self):\n",
    "        Polygon.__init__(self,3)\n",
    "\n",
    "    def find_area(self):\n",
    "        a, b, c = self.sides\n",
    "      \n",
    "        s = (a + b + c) / 2\n",
    "        area = (s*(s-a)*(s-b)*(s-c)) ** 0.5\n",
    "        print('The area of the triangle is %0.2f' %area)\n",
    "\n",
    "\n",
    "class Right_Triangle(Triangle):\n",
    "    def __init__(self):\n",
    "        Triangle.__init__(self)\n",
    "\n",
    "\n",
    "    def input_sides(self):\n",
    "        self.sides = [float(input(\"Enter side \" + str(i + 1) + \" : \")) for i in range(self.n-1)]\n",
    "        self.sides.append((self.sides[0] ** 2 + self.sides[1] ** 2) ** 0.5)\n",
    "\n",
    "\n",
    "\n",
    "r_tr = Right_Triangle()\n",
    "r_tr.input_sides()\n",
    "r_tr.disp_sides()\n",
    "r_tr.find_area()"
   ]
  },
  {
   "cell_type": "code",
   "execution_count": null,
   "metadata": {},
   "outputs": [],
   "source": []
  }
 ],
 "metadata": {
  "kernelspec": {
   "display_name": "Python 3",
   "language": "python",
   "name": "python3"
  },
  "language_info": {
   "codemirror_mode": {
    "name": "ipython",
    "version": 3
   },
   "file_extension": ".py",
   "mimetype": "text/x-python",
   "name": "python",
   "nbconvert_exporter": "python",
   "pygments_lexer": "ipython3",
   "version": "3.7.0"
  }
 },
 "nbformat": 4,
 "nbformat_minor": 2
}
